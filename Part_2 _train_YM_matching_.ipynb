{
 "cells": [
  {
   "cell_type": "markdown",
   "id": "1226464c",
   "metadata": {},
   "source": [
    "# Часть 2. Подготовка и обучение модели на базовых и обучающих данных"
   ]
  },
  {
   "cell_type": "markdown",
   "id": "7ea5a9f0",
   "metadata": {},
   "source": [
    "**Описание действий:**\n",
    "\n",
    "У нас имеется запрос - вектор query (1x72). Для него у нас есть target base-xxx - это вектор из базы base. \n",
    "С этим вектором мы идем в faiss, где получаем с его помощью получаем еще несколько таких же векторов (в нашем случае мы взяли 30 шт). На этих данных мы обучаем классификатор. Для каждого вектора, который нам выдал faiss, мы знаем имя base-1, base-2 ...base-xxx. И какой-то из этих векторов и является искомым base-xxx, который прописан у нас в target. \n",
    "\n",
    "Следующим шагом мы фиксируем колонку в с таргетом: смотрим на первый вектор из faiss и сравниваем его с target base-xxx. Если значения не совпали, ставим 0, а если совпали,то ставим 1. То же самое делаем для всех векторов. Таким образом мы получаем новый target, на котоом будем обучать CatBoostClassifier. \n",
    "\n",
    "Мы берем наш исходный запрос query (1x72) и приставляем к каждому вектору, который нам выдал faiss. В результате мы получаем матрицу 30х144 (где 30 - количество кандидатов, 144 = 72 query + 72 base, по-простому, query и base имеют 72 колонки в датасете). Эта матрица, и будет нашим новым признаком  features (30х144). А столбец с 0 и 1, который мы сформировали, и будет нашим новым таргетом, на котором мы обучаем CatBoostClassifier."
   ]
  },
  {
   "cell_type": "markdown",
   "id": "419f5c07",
   "metadata": {},
   "source": [
    "### Загрузка библиотек и исходных датасетов "
   ]
  },
  {
   "cell_type": "code",
   "execution_count": 1,
   "id": "bec0103d",
   "metadata": {
    "scrolled": true
   },
   "outputs": [],
   "source": [
    "import pandas as pd\n",
    "import seaborn as sns\n",
    "import matplotlib.pyplot as plt\n",
    "import numpy as np\n",
    "from tqdm.notebook import tqdm\n",
    "\n",
    "import faiss\n",
    "\n",
    "from sklearn.preprocessing import StandardScaler\n",
    "\n",
    "from catboost import CatBoostClassifier"
   ]
  },
  {
   "cell_type": "code",
   "execution_count": 2,
   "id": "f54e67a4",
   "metadata": {},
   "outputs": [],
   "source": [
    "df_base = pd.read_csv(\"base.csv\", index_col=0)\n",
    "df_train = pd.read_csv(\"train.csv\", index_col=0)"
   ]
  },
  {
   "cell_type": "markdown",
   "id": "86f54e24",
   "metadata": {},
   "source": [
    "###  Подготовка данных для работы Faiss"
   ]
  },
  {
   "cell_type": "code",
   "execution_count": 3,
   "id": "338a3519",
   "metadata": {},
   "outputs": [],
   "source": [
    "# Разобьем обечающий датасет на фичи и таргет \n",
    "targets = df_train[\"Target\"]\n",
    "df_train.drop(\"Target\", axis=1, inplace=True)"
   ]
  },
  {
   "cell_type": "code",
   "execution_count": 4,
   "id": "0fbe641e",
   "metadata": {},
   "outputs": [],
   "source": [
    "# Нормализация данных\n",
    "def normalize_with_indices(df):\n",
    "       \n",
    "    scaler = StandardScaler()\n",
    "    df_scaled = scaler.fit_transform(df)\n",
    "    \n",
    "    df_normalized = pd.DataFrame(df_scaled, index=df.index, columns=df.columns)\n",
    "    return df_normalized"
   ]
  },
  {
   "cell_type": "code",
   "execution_count": 5,
   "id": "d0354161",
   "metadata": {},
   "outputs": [],
   "source": [
    "df_base_scaled = normalize_with_indices(df_base)\n",
    "df_train_scaled  = normalize_with_indices(df_train)"
   ]
  },
  {
   "cell_type": "markdown",
   "id": "bbeed5df",
   "metadata": {},
   "source": [
    "### Первая стадия поиска ближайших соседей с использованием Faiss"
   ]
  },
  {
   "cell_type": "code",
   "execution_count": 6,
   "id": "046e4b1a",
   "metadata": {},
   "outputs": [],
   "source": [
    "# Инициализация Faiss\n",
    "dims = df_base_scaled.shape[1]\n",
    "# n_cells = 10\n",
    "n_cells = 1000\n",
    "\n",
    "quantizer = faiss.IndexFlatL2(dims)\n",
    "idx_l2 = faiss.IndexIVFFlat(quantizer, dims, n_cells)\n",
    "\n",
    "# idx_l2.nprobe = 5\n",
    "idx_l2.nprobe = 100"
   ]
  },
  {
   "cell_type": "code",
   "execution_count": 7,
   "id": "0117654c",
   "metadata": {},
   "outputs": [],
   "source": [
    "# Обучение Faiss на base данных\n",
    "idx_l2.train(np.ascontiguousarray(df_base_scaled).astype('float32'))\n",
    "\n",
    "idx_l2.add(np.ascontiguousarray(df_base_scaled).astype('float32'))"
   ]
  },
  {
   "cell_type": "code",
   "execution_count": 8,
   "id": "4d8d9f8e",
   "metadata": {},
   "outputs": [],
   "source": [
    "base_index = {k: v for k, v in enumerate(df_base_scaled.index.to_list())}"
   ]
  },
  {
   "cell_type": "code",
   "execution_count": 9,
   "id": "da1e25f7",
   "metadata": {},
   "outputs": [
    {
     "name": "stdout",
     "output_type": "stream",
     "text": [
      "CPU times: user 45min 14s, sys: 945 ms, total: 45min 15s\n",
      "Wall time: 5min 42s\n"
     ]
    }
   ],
   "source": [
    "%%time\n",
    "# Поиск ближайших соседей на тренировочных данных\n",
    "k_neighbours = 30\n",
    "vecs, idx = idx_l2.search(np.ascontiguousarray(df_train_scaled.values).astype('float32'), k_neighbours)"
   ]
  },
  {
   "cell_type": "code",
   "execution_count": 10,
   "id": "cf7cbfca",
   "metadata": {
    "scrolled": true
   },
   "outputs": [
    {
     "name": "stdout",
     "output_type": "stream",
     "text": [
      "73.855\n"
     ]
    }
   ],
   "source": [
    "# Вычисляем точность (accuracy) модели на тренировочных данных\n",
    "acc = 0\n",
    "for target, el in zip(targets.values.tolist(), idx.tolist()):\n",
    "    acc += int(target in [base_index[r] for r in el])\n",
    "\n",
    "print(100 * acc / len(idx))"
   ]
  },
  {
   "cell_type": "markdown",
   "id": "2483d38d",
   "metadata": {},
   "source": [
    "### Подготовка данных для обучения CatBoost"
   ]
  },
  {
   "cell_type": "code",
   "execution_count": 11,
   "id": "708609cf",
   "metadata": {},
   "outputs": [],
   "source": [
    "# Преобразование индексов в массив numpy\n",
    "idx = np.array([[base_index[_] for _ in el] for el in idx], dtype=object) \n",
    "\n",
    "# Изменение формы расстояний для корректной работы\n",
    "vecs = vecs.reshape(-1, 1)"
   ]
  },
  {
   "cell_type": "code",
   "execution_count": 12,
   "id": "933078fd",
   "metadata": {},
   "outputs": [],
   "source": [
    "# Подготовка целевых значений для использования с CatBoost\n",
    "cat_target = np.array([[1 if x == target else 0 for x in el] for el, target in zip(idx, targets.values.tolist())]).flatten()"
   ]
  },
  {
   "cell_type": "code",
   "execution_count": 13,
   "id": "304e1b40",
   "metadata": {
    "scrolled": false
   },
   "outputs": [],
   "source": [
    "# Извлечение признаков для кандидатов и объектов\n",
    "candidate_features = df_base_scaled.loc[idx.flatten()].values  # Признаки для кандидатов\n",
    "object_features = df_train_scaled.values  # Признаки для объектов"
   ]
  },
  {
   "cell_type": "code",
   "execution_count": 14,
   "id": "ef873698",
   "metadata": {},
   "outputs": [],
   "source": [
    "del df_base\n",
    "del df_train\n",
    "del df_base_scaled \n",
    "del df_train_scaled"
   ]
  },
  {
   "cell_type": "code",
   "execution_count": 15,
   "id": "2d958e7d",
   "metadata": {},
   "outputs": [],
   "source": [
    "# Повторение признаков объектов для кандидатов\n",
    "repeated_object = np.repeat(object_features, k_neighbours, axis=0)"
   ]
  },
  {
   "cell_type": "code",
   "execution_count": 16,
   "id": "21cb9b8a",
   "metadata": {},
   "outputs": [],
   "source": [
    "# Горизонтальное объединение массивов\n",
    "cat_features = np.hstack((vecs, candidate_features, repeated_object))"
   ]
  },
  {
   "cell_type": "code",
   "execution_count": 17,
   "id": "abbfa9bd",
   "metadata": {},
   "outputs": [],
   "source": [
    "del idx \n",
    "del vecs \n",
    "del candidate_features "
   ]
  },
  {
   "cell_type": "markdown",
   "id": "4eae329a",
   "metadata": {},
   "source": [
    "### Подготовка и обучение CatBoostClassifier на тренировочном датасете "
   ]
  },
  {
   "cell_type": "code",
   "execution_count": 18,
   "id": "240d5168",
   "metadata": {},
   "outputs": [],
   "source": [
    "# Определяем параметры для CatBoost\n",
    "params = {\n",
    "    'n_estimators': 100, \n",
    "    'depth': 5,\n",
    "    'learning_rate': 0.1,\n",
    "    'eval_metric': 'Accuracy',\n",
    "    'verbose': 10\n",
    "}"
   ]
  },
  {
   "cell_type": "code",
   "execution_count": 19,
   "id": "48adee95",
   "metadata": {},
   "outputs": [],
   "source": [
    "# Создаем модель CatBoost\n",
    "cat_model = CatBoostClassifier(**params)"
   ]
  },
  {
   "cell_type": "code",
   "execution_count": 20,
   "id": "436b2d2f",
   "metadata": {
    "scrolled": true
   },
   "outputs": [
    {
     "name": "stdout",
     "output_type": "stream",
     "text": [
      "0:\tlearn: 0.9786183\ttotal: 591ms\tremaining: 58.5s\n",
      "10:\tlearn: 0.9804710\ttotal: 6.32s\tremaining: 51.1s\n",
      "20:\tlearn: 0.9810133\ttotal: 12.3s\tremaining: 46.3s\n",
      "30:\tlearn: 0.9813800\ttotal: 18.4s\tremaining: 41.1s\n",
      "40:\tlearn: 0.9817200\ttotal: 24.4s\tremaining: 35.1s\n",
      "50:\tlearn: 0.9819623\ttotal: 30.2s\tremaining: 29s\n",
      "60:\tlearn: 0.9823613\ttotal: 35.9s\tremaining: 22.9s\n",
      "70:\tlearn: 0.9826997\ttotal: 41.7s\tremaining: 17s\n",
      "80:\tlearn: 0.9828950\ttotal: 47.6s\tremaining: 11.2s\n",
      "90:\tlearn: 0.9831443\ttotal: 53.8s\tremaining: 5.32s\n",
      "99:\tlearn: 0.9833803\ttotal: 59.2s\tremaining: 0us\n",
      "CPU times: user 10min, sys: 2.92 s, total: 10min 3s\n",
      "Wall time: 2min 55s\n"
     ]
    },
    {
     "data": {
      "text/plain": [
       "<catboost.core.CatBoostClassifier at 0x7f16c5490810>"
      ]
     },
     "execution_count": 20,
     "metadata": {},
     "output_type": "execute_result"
    }
   ],
   "source": [
    "%%time\n",
    "# Обучаем модель на тренировочных данных \n",
    "cat_model.fit(cat_features, cat_target)\n",
    "# # Ограничим количество данных для обучения, чтобы уменьшить нагрузку на память\n",
    "# sample_size = 1000  \n",
    "# cat_model.fit(cat_features[:sample_size], cat_target[:sample_size])"
   ]
  },
  {
   "cell_type": "code",
   "execution_count": 21,
   "id": "a85c1770",
   "metadata": {},
   "outputs": [],
   "source": [
    "# Сохраняем обученную модель \n",
    "cat_model.save_model(\"cat_model.cbm\")"
   ]
  },
  {
   "cell_type": "markdown",
   "id": "fd9904ce",
   "metadata": {},
   "source": [
    "## ВЫВОД\n",
    "\n",
    "Подготовлена и обучена моель рекомендательной системы (поиска ближайших соседей). \n",
    "Поиск осуществляется в две стадии: \n",
    "1. Сначала из базы (base) с помощью библиотеки faiss осуществлен поиск ближайших соседей (30 шт) на тренировочной выборке. \n",
    "2. Затем с помощью CatBoostClassifier упорядочены и выбираны лучшие результаты.\n",
    "Обученная модель сохранена для использования на валидационной выборке. "
   ]
  },
  {
   "cell_type": "code",
   "execution_count": null,
   "id": "73b5e4d2",
   "metadata": {},
   "outputs": [],
   "source": []
  }
 ],
 "metadata": {
  "kernelspec": {
   "display_name": "Python 3 (ipykernel)",
   "language": "python",
   "name": "python3"
  },
  "language_info": {
   "codemirror_mode": {
    "name": "ipython",
    "version": 3
   },
   "file_extension": ".py",
   "mimetype": "text/x-python",
   "name": "python",
   "nbconvert_exporter": "python",
   "pygments_lexer": "ipython3",
   "version": "3.11.4"
  },
  "toc": {
   "base_numbering": 1,
   "nav_menu": {},
   "number_sections": true,
   "sideBar": true,
   "skip_h1_title": false,
   "title_cell": "Table of Contents",
   "title_sidebar": "Contents",
   "toc_cell": false,
   "toc_position": {},
   "toc_section_display": true,
   "toc_window_display": false
  }
 },
 "nbformat": 4,
 "nbformat_minor": 5
}

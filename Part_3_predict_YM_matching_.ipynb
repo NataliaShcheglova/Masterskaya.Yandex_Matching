{
 "cells": [
  {
   "cell_type": "markdown",
   "id": "b3c36c23",
   "metadata": {},
   "source": [
    "# Часть 3. Проверка рекомендательной системы на валидационной выборке\n",
    "Пдготовка входных фичей с помощью faiss с помощью базового и валидационного датасетов и использование их на обученной модели CatBoostClassifier с целью проверки эффективности на валидационной выборке. \n",
    "\n",
    "**Описание действий:**\n",
    "Нам поступает какой-то запрос query (1x72), для него мы получаем 30 кандидатов с помощью faiss. Снов аподставляем query к полученным кандидатам (совмещаем векторы), получаем матрицу (1х144), как в предыдущей части работы, но теперь у нас нет таргета. Зато у нас есть обученная модель CatBoostClassifier и входные фичи. Мы забрасываем эти фичи в нашу модель (напомню, я обучила ее и сохранила в предыдущей части №2). Модель отрабатывает и выдает вероятности. Выбираем вектор,для которого вероятность максимальна (ближе к 1).  "
   ]
  },
  {
   "cell_type": "markdown",
   "id": "d167656b",
   "metadata": {},
   "source": [
    "### Загрузка библиотек и исходных датасетов "
   ]
  },
  {
   "cell_type": "code",
   "execution_count": 1,
   "id": "3c43e8cd",
   "metadata": {},
   "outputs": [],
   "source": [
    "import faiss\n",
    "import pandas as pd\n",
    "import numpy as np\n",
    "from sklearn.preprocessing import StandardScaler\n",
    "from catboost import CatBoostClassifier"
   ]
  },
  {
   "cell_type": "code",
   "execution_count": 2,
   "id": "dce13bba",
   "metadata": {},
   "outputs": [],
   "source": [
    "# Загрузка данных\n",
    "df_base = pd.read_csv(\"base.csv\", index_col=0)\n",
    "df_validation = pd.read_csv(\"validation.csv\", index_col=0)\n",
    "df_validation_answer = pd.read_csv(\"validation_answer.csv\", index_col=0)"
   ]
  },
  {
   "cell_type": "markdown",
   "id": "d47643a6",
   "metadata": {},
   "source": [
    "###  Подготовка данных для работы Faiss"
   ]
  },
  {
   "cell_type": "code",
   "execution_count": 3,
   "id": "e3a40c93",
   "metadata": {},
   "outputs": [],
   "source": [
    "# преобразуем в датафрейм в Series\n",
    "df_validation_answer = df_validation_answer.squeeze()"
   ]
  },
  {
   "cell_type": "code",
   "execution_count": 4,
   "id": "56343e73",
   "metadata": {},
   "outputs": [],
   "source": [
    "# Нормализация данных \n",
    "def normalize_with_indices(df):\n",
    "    scaler = StandardScaler()\n",
    "    df_scaled = scaler.fit_transform(df)\n",
    "    df_normalized = pd.DataFrame(df_scaled, index=df.index, columns=df.columns)\n",
    "    return df_normalized\n",
    "\n",
    "df_base_scaled = normalize_with_indices(df_base)\n",
    "df_validation_scaled = normalize_with_indices(df_validation)"
   ]
  },
  {
   "cell_type": "code",
   "execution_count": 5,
   "id": "41fd5ddb",
   "metadata": {},
   "outputs": [],
   "source": [
    "del df_base\n",
    "del df_validation"
   ]
  },
  {
   "cell_type": "markdown",
   "id": "6af936f3",
   "metadata": {},
   "source": [
    "### Первая стадия поиска ближайших соседей с использованием Faiss на валидационной выборке "
   ]
  },
  {
   "cell_type": "code",
   "execution_count": 6,
   "id": "85e672bb",
   "metadata": {},
   "outputs": [
    {
     "name": "stdout",
     "output_type": "stream",
     "text": [
      "CPU times: user 45min 41s, sys: 2.54 s, total: 45min 44s\n",
      "Wall time: 5min 46s\n"
     ]
    }
   ],
   "source": [
    "%%time \n",
    "# Инициализация Faiss\n",
    "dims = df_base_scaled.shape[1]\n",
    "n_cells = 1000\n",
    "\n",
    "quantizer = faiss.IndexFlatL2(dims)\n",
    "idx_l2 = faiss.IndexIVFFlat(quantizer, dims, n_cells)\n",
    "\n",
    "idx_l2.nprobe = 100\n",
    "\n",
    "# Обучение Faiss на base данных\n",
    "idx_l2.train(np.ascontiguousarray(df_base_scaled).astype('float32'))\n",
    "\n",
    "idx_l2.add(np.ascontiguousarray(df_base_scaled).astype('float32'))\n",
    "\n",
    "base_index = {k: v for k, v in enumerate(df_base_scaled.index.to_list())}\n",
    "\n",
    "# Поиск ближайших соседей на валидационных данных\n",
    "k_neighbours = 30\n",
    "vecs, idx = idx_l2.search(np.ascontiguousarray(df_validation_scaled.values).astype('float32'), k_neighbours)"
   ]
  },
  {
   "cell_type": "code",
   "execution_count": 7,
   "id": "f854e6a2",
   "metadata": {
    "scrolled": false
   },
   "outputs": [
    {
     "name": "stdout",
     "output_type": "stream",
     "text": [
      "73.757\n"
     ]
    }
   ],
   "source": [
    "# Вычисляем точность (accuracy) модели на валидационных данных\n",
    "acc = 0\n",
    "for target, el in zip(df_validation_answer.values.tolist(), idx.tolist()):\n",
    "    acc += int(target in [base_index[r] for r in el])\n",
    "\n",
    "print(100 * acc / len(idx))"
   ]
  },
  {
   "cell_type": "markdown",
   "id": "2de349ac",
   "metadata": {},
   "source": [
    "### Подготовка данных для использования с CatBoost"
   ]
  },
  {
   "cell_type": "code",
   "execution_count": 8,
   "id": "3d17ff31",
   "metadata": {},
   "outputs": [],
   "source": [
    "# Преобразование индексов в массив numpy\n",
    "idx = np.array([[base_index[_] for _ in el] for el in idx], dtype=object) \n",
    "\n",
    "# Изменение формы расстояний для корректной работы\n",
    "vecs = vecs.reshape(-1, 1)"
   ]
  },
  {
   "cell_type": "code",
   "execution_count": 9,
   "id": "b9552b82",
   "metadata": {},
   "outputs": [],
   "source": [
    "# Подготовка целевых значений для использования с CatBoost\n",
    "cat_target = np.array([[1 if x == target else 0 for x in el] for el, target in zip(idx, df_validation_answer.values.tolist())]).flatten()"
   ]
  },
  {
   "cell_type": "code",
   "execution_count": 10,
   "id": "7c929860",
   "metadata": {},
   "outputs": [],
   "source": [
    "# Извлечение признаков для кандидатов и объектов\n",
    "candidate_features = df_base_scaled.loc[idx.flatten()].values  # Признаки для кандидатов\n",
    "object_features = df_validation_scaled.values  # Признаки для объектов"
   ]
  },
  {
   "cell_type": "code",
   "execution_count": 11,
   "id": "fe333433",
   "metadata": {},
   "outputs": [],
   "source": [
    "del df_base_scaled \n",
    "del df_validation_scaled"
   ]
  },
  {
   "cell_type": "code",
   "execution_count": 12,
   "id": "277914db",
   "metadata": {},
   "outputs": [],
   "source": [
    "# Повторение признаков объектов для кандидатов\n",
    "repeated_object = np.repeat(object_features, k_neighbours, axis=0)"
   ]
  },
  {
   "cell_type": "code",
   "execution_count": 13,
   "id": "53fc2206",
   "metadata": {},
   "outputs": [],
   "source": [
    "# Горизонтальное объединение массивов\n",
    "cat_features = np.hstack((vecs, candidate_features, repeated_object))"
   ]
  },
  {
   "cell_type": "code",
   "execution_count": 14,
   "id": "ac1beafa",
   "metadata": {
    "scrolled": true
   },
   "outputs": [],
   "source": [
    "del vecs \n",
    "del candidate_features "
   ]
  },
  {
   "cell_type": "markdown",
   "id": "ab6db776",
   "metadata": {},
   "source": [
    "### Рекомендации с помощью обученной модели CatBoost"
   ]
  },
  {
   "cell_type": "code",
   "execution_count": 15,
   "id": "3f7e6599",
   "metadata": {
    "scrolled": true
   },
   "outputs": [
    {
     "data": {
      "text/plain": [
       "<catboost.core.CatBoostClassifier at 0x7f0a56a22dd0>"
      ]
     },
     "execution_count": 15,
     "metadata": {},
     "output_type": "execute_result"
    }
   ],
   "source": [
    "# Загрузка обученной модели CatBoost\n",
    "cat_model = CatBoostClassifier()\n",
    "cat_model.load_model(\"cat_model.cbm\")"
   ]
  },
  {
   "cell_type": "code",
   "execution_count": 16,
   "id": "c72b2b06",
   "metadata": {
    "scrolled": false
   },
   "outputs": [],
   "source": [
    "# Предсказание вероятностей для ближайших соседей\n",
    "neighbor_probs = cat_model.predict_proba(cat_features)"
   ]
  },
  {
   "cell_type": "code",
   "execution_count": 17,
   "id": "15b366aa",
   "metadata": {},
   "outputs": [],
   "source": [
    "cat_val_probs = []\n",
    "idx_val = []"
   ]
  },
  {
   "cell_type": "code",
   "execution_count": 18,
   "id": "91dcdc3d",
   "metadata": {},
   "outputs": [],
   "source": [
    "cat_val_probs.append(np.vstack(neighbor_probs))\n",
    "idx_val.append(np.vstack(idx))"
   ]
  },
  {
   "cell_type": "code",
   "execution_count": 19,
   "id": "3ce32170",
   "metadata": {},
   "outputs": [],
   "source": [
    "# Преобразование списка в массив numpy\n",
    "cat_val_probs = np.array(cat_val_probs)\n",
    "\n",
    "idx_val = np.array(idx_val)"
   ]
  },
  {
   "cell_type": "code",
   "execution_count": 20,
   "id": "1573d85b",
   "metadata": {},
   "outputs": [
    {
     "name": "stdout",
     "output_type": "stream",
     "text": [
      "CPU times: user 15min 34s, sys: 408 ms, total: 15min 35s\n",
      "Wall time: 15min 35s\n"
     ]
    }
   ],
   "source": [
    "%%time\n",
    "# Находим индексы элементов с максимальной вероятностью предсказания\n",
    "k = 30\n",
    "n = 5\n",
    "\n",
    "max_indices = np.empty((0, n), dtype=int)\n",
    "for i in range(0, len(cat_val_probs.flatten()), k):\n",
    "    sub_arr = cat_val_probs.flatten()[i:i+k]\n",
    "    max_values = np.argpartition(sub_arr, -n)[-n:]\n",
    "    max_indices = np.vstack((max_indices, max_values))\n"
   ]
  },
  {
   "cell_type": "code",
   "execution_count": 21,
   "id": "b5afbebd",
   "metadata": {},
   "outputs": [],
   "source": [
    "# Выбор кандидатов на основе их индексов\n",
    "neighbors_idx = idx_val[np.arange(len(idx_val))[:, None], max_indices]"
   ]
  },
  {
   "cell_type": "code",
   "execution_count": 22,
   "id": "92b3ee28",
   "metadata": {},
   "outputs": [
    {
     "name": "stdout",
     "output_type": "stream",
     "text": [
      "0.004\n"
     ]
    }
   ],
   "source": [
    "# Вычисляем точность на первых n местах для заданных целевых значений и предсказаний\n",
    "acc = 0\n",
    "for target_val, pred_vals in zip(df_validation_answer.values.tolist(), neighbors_idx):\n",
    "    if target_val in pred_vals[:n]:\n",
    "        acc += 1\n",
    "\n",
    "accuracy_at_n = 100 * acc / len(neighbors_idx)\n",
    "\n",
    "print(accuracy_at_n)"
   ]
  },
  {
   "cell_type": "markdown",
   "id": "4cd8a5fb",
   "metadata": {},
   "source": [
    "##  ВЫВОД \n",
    "На валидационной выборке проведен поиск ближайших соседей, затем с помощью обученной модели CatBoostClassifier выбраны кандидаты с наибольшей вероятностью. \n",
    "Метрика низкая, кажется, где-то ошибка, продолжу искать. "
   ]
  },
  {
   "cell_type": "markdown",
   "id": "7b3757b4",
   "metadata": {},
   "source": [
    "# Что еще было выполнено для улучшения метрики: \n",
    "\n",
    "- Удаление признаков с равномерным распределением и выбросами - позволило увеличить метрику на 0.5 - 1% при поиске ближайших соседей, что не; \n",
    "- Метод главных компонент (PCA) - уменьшение размерности данных не позволило поднять метрику. \n",
    "- Стандартизация данных с помощью StandardScaler позволилила повысить метрику значительно, потому при подготовке данных ее оставила. \n",
    "- Уменьшение количества кластеров в фаисс и увеличение числа кластеров, в которых нужно искать соседей помогает поднять метрику на пару процентов, но значительно увеличивает время работы, потому я приняла решение отказаться, поскольку мое железо не тянет:) \n",
    "- Увеличение количества соседей также позволяет слегка поднять метрику, но увеличивает размер матрицы, которую необходимо подавать на следующую ступень (на обучение катбуста), в итоге ядро перегружвется и падает. Я приняла решение отказаться от больших обьемов данных по этой причине.\n",
    "- Пыталась перебрать параетры с Optuna  и GridSearchCV, но падает ядро. Увеличение количества деревьев и глубины тоже приводят к падению ядра. "
   ]
  },
  {
   "cell_type": "code",
   "execution_count": null,
   "id": "8990916c",
   "metadata": {},
   "outputs": [],
   "source": []
  }
 ],
 "metadata": {
  "kernelspec": {
   "display_name": "Python 3 (ipykernel)",
   "language": "python",
   "name": "python3"
  },
  "language_info": {
   "codemirror_mode": {
    "name": "ipython",
    "version": 3
   },
   "file_extension": ".py",
   "mimetype": "text/x-python",
   "name": "python",
   "nbconvert_exporter": "python",
   "pygments_lexer": "ipython3",
   "version": "3.11.4"
  }
 },
 "nbformat": 4,
 "nbformat_minor": 5
}

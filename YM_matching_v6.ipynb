{
 "cells": [
  {
   "cell_type": "code",
   "execution_count": 1,
   "id": "bec0103d",
   "metadata": {},
   "outputs": [],
   "source": [
    "import pandas as pd\n",
    "import seaborn as sns\n",
    "import matplotlib.pyplot as plt\n",
    "import numpy as np\n",
    "from tqdm.notebook import tqdm\n",
    "\n",
    "import faiss\n",
    "\n",
    "from sklearn.preprocessing import StandardScaler\n",
    "from sklearn.pipeline import Pipeline\n",
    "from sklearn.decomposition import PCA\n",
    "\n",
    "from catboost import Pool, CatBoostClassifier"
   ]
  },
  {
   "cell_type": "code",
   "execution_count": 2,
   "id": "d7987a1d",
   "metadata": {},
   "outputs": [],
   "source": [
    "DATA_PATH = \"C:\\\\Users\\\\Natalia\\\\Desktop\\\\Masterskaya\\\\\""
   ]
  },
  {
   "cell_type": "code",
   "execution_count": 3,
   "id": "c713c9c7",
   "metadata": {},
   "outputs": [],
   "source": [
    "df_base = pd.read_csv(f\"{DATA_PATH}base.csv\", index_col=0)\n",
    "df_train = pd.read_csv(f\"{DATA_PATH}train.csv\", index_col=0)\n",
    "df_validation = pd.read_csv(f\"{DATA_PATH}validation.csv\", index_col=0)\n",
    "df_validation_answer = pd.read_csv(f\"{DATA_PATH}validation_answer.csv\", index_col=0)"
   ]
  },
  {
   "cell_type": "code",
   "execution_count": 4,
   "id": "338a3519",
   "metadata": {},
   "outputs": [],
   "source": [
    "targets = df_train[\"Target\"]\n",
    "df_train.drop(\"Target\", axis=1, inplace=True)"
   ]
  },
  {
   "cell_type": "code",
   "execution_count": 5,
   "id": "9eab9f5a",
   "metadata": {},
   "outputs": [],
   "source": [
    "df_base.drop([\"21\", \"25\", \"33\", \"44\", \"59\", \"65\", \"70\"], axis=1, inplace=True)\n",
    "df_train.drop([\"21\", \"25\", \"33\", \"44\", \"59\", \"65\", \"70\"], axis=1, inplace=True)\n",
    "df_validation.drop([\"21\", \"25\", \"33\", \"44\", \"59\", \"65\", \"70\"], axis=1, inplace=True)"
   ]
  },
  {
   "cell_type": "code",
   "execution_count": 6,
   "id": "0fbe641e",
   "metadata": {},
   "outputs": [],
   "source": [
    "# Нормализация данных\n",
    "def normalize_with_indices(df):\n",
    "    original_indices = df.index\n",
    "    \n",
    "    scaler = StandardScaler()\n",
    "    df_scaled = scaler.fit_transform(df)\n",
    "    \n",
    "    df_normalized = pd.DataFrame(df_scaled, index=original_indices, columns=df.columns)\n",
    "    return df_normalized"
   ]
  },
  {
   "cell_type": "code",
   "execution_count": 7,
   "id": "d0354161",
   "metadata": {},
   "outputs": [],
   "source": [
    "df_base_scaled = normalize_with_indices(df_base)\n",
    "df_train_scaled  = normalize_with_indices(df_train)\n",
    "df_validation_scaled = normalize_with_indices(df_validation)"
   ]
  },
  {
   "cell_type": "code",
   "execution_count": 8,
   "id": "046e4b1a",
   "metadata": {},
   "outputs": [],
   "source": [
    "dims = df_base_scaled.shape[1]\n",
    "n_cells = 10\n",
    "\n",
    "quantizer = faiss.IndexFlatL2(dims)\n",
    "idx_l2 = faiss.IndexIVFFlat(quantizer, dims, n_cells)"
   ]
  },
  {
   "cell_type": "code",
   "execution_count": 9,
   "id": "0117654c",
   "metadata": {},
   "outputs": [],
   "source": [
    "idx_l2.train(np.ascontiguousarray(df_base_scaled).astype('float32'))\n",
    "\n",
    "idx_l2.add(np.ascontiguousarray(df_base_scaled).astype('float32'))"
   ]
  },
  {
   "cell_type": "code",
   "execution_count": 10,
   "id": "4d8d9f8e",
   "metadata": {},
   "outputs": [],
   "source": [
    "base_index = {k: v for k, v in enumerate(df_base_scaled.index.to_list())}"
   ]
  },
  {
   "cell_type": "code",
   "execution_count": 11,
   "id": "da1e25f7",
   "metadata": {},
   "outputs": [
    {
     "name": "stdout",
     "output_type": "stream",
     "text": [
      "Wall time: 8min 18s\n",
      "Parser   : 211 ms\n"
     ]
    }
   ],
   "source": [
    "%%time\n",
    "k_neighbours = 100\n",
    "vecs, idx = idx_l2.search(np.ascontiguousarray(df_train_scaled.values).astype('float32'), k_neighbours)"
   ]
  },
  {
   "cell_type": "code",
   "execution_count": 12,
   "id": "cf7cbfca",
   "metadata": {},
   "outputs": [
    {
     "name": "stdout",
     "output_type": "stream",
     "text": [
      "67.132\n"
     ]
    }
   ],
   "source": [
    "acc = 0\n",
    "for target, el in zip(targets.values.tolist(), idx.tolist()):\n",
    "    acc += int(target in [base_index[r] for r in el])\n",
    "\n",
    "print(100 * acc / len(idx))"
   ]
  }
 ],
 "metadata": {
  "kernelspec": {
   "display_name": "Python 3 (ipykernel)",
   "language": "python",
   "name": "python3"
  },
  "language_info": {
   "codemirror_mode": {
    "name": "ipython",
    "version": 3
   },
   "file_extension": ".py",
   "mimetype": "text/x-python",
   "name": "python",
   "nbconvert_exporter": "python",
   "pygments_lexer": "ipython3",
   "version": "3.7.16"
  },
  "toc": {
   "base_numbering": 1,
   "nav_menu": {},
   "number_sections": true,
   "sideBar": true,
   "skip_h1_title": false,
   "title_cell": "Table of Contents",
   "title_sidebar": "Contents",
   "toc_cell": false,
   "toc_position": {},
   "toc_section_display": true,
   "toc_window_display": false
  }
 },
 "nbformat": 4,
 "nbformat_minor": 5
}

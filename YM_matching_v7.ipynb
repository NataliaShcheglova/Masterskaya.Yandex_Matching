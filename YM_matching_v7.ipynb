{
 "cells": [
  {
   "cell_type": "code",
   "execution_count": 1,
   "id": "bec0103d",
   "metadata": {},
   "outputs": [],
   "source": [
    "import pandas as pd\n",
    "import seaborn as sns\n",
    "import matplotlib.pyplot as plt\n",
    "import numpy as np\n",
    "from tqdm.notebook import tqdm\n",
    "\n",
    "import faiss\n",
    "\n",
    "from sklearn.preprocessing import StandardScaler\n",
    "from sklearn.pipeline import Pipeline\n",
    "from sklearn.decomposition import PCA\n",
    "\n",
    "from catboost import Pool, CatBoostClassifier"
   ]
  },
  {
   "cell_type": "code",
   "execution_count": 2,
   "id": "d7987a1d",
   "metadata": {},
   "outputs": [],
   "source": [
    "DATA_PATH = \"C:\\\\Users\\\\Natalia\\\\Desktop\\\\Masterskaya\\\\\""
   ]
  },
  {
   "cell_type": "code",
   "execution_count": 3,
   "id": "c713c9c7",
   "metadata": {},
   "outputs": [],
   "source": [
    "df_base = pd.read_csv(f\"{DATA_PATH}base.csv\", index_col=0)\n",
    "df_train = pd.read_csv(f\"{DATA_PATH}train.csv\", index_col=0)\n",
    "df_validation = pd.read_csv(f\"{DATA_PATH}validation.csv\", index_col=0)\n",
    "df_validation_answer = pd.read_csv(f\"{DATA_PATH}validation_answer.csv\", index_col=0)"
   ]
  },
  {
   "cell_type": "code",
   "execution_count": 4,
   "id": "338a3519",
   "metadata": {},
   "outputs": [],
   "source": [
    "targets = df_train[\"Target\"]\n",
    "df_train.drop(\"Target\", axis=1, inplace=True)"
   ]
  },
  {
   "cell_type": "code",
   "execution_count": 5,
   "id": "e4618264",
   "metadata": {},
   "outputs": [],
   "source": [
    "df_base.drop([\"21\", \"25\", \"33\", \"44\", \"59\", \"65\", \"70\"], axis=1, inplace=True)\n",
    "df_train.drop([\"21\", \"25\", \"33\", \"44\", \"59\", \"65\", \"70\"], axis=1, inplace=True)\n",
    "df_validation.drop([\"21\", \"25\", \"33\", \"44\", \"59\", \"65\", \"70\"], axis=1, inplace=True)"
   ]
  },
  {
   "cell_type": "code",
   "execution_count": null,
   "id": "43547083",
   "metadata": {},
   "outputs": [],
   "source": []
  },
  {
   "cell_type": "markdown",
   "id": "622678a3",
   "metadata": {},
   "source": [
    "# Нормализация данных "
   ]
  },
  {
   "cell_type": "code",
   "execution_count": null,
   "id": "0fbe641e",
   "metadata": {},
   "outputs": [],
   "source": [
    "# Нормализация данных\n",
    "def normalize_with_indices(df):\n",
    "    original_indices = df.index\n",
    "    \n",
    "    scaler = StandardScaler()\n",
    "    df_scaled = scaler.fit_transform(df)\n",
    "    \n",
    "    df_normalized = pd.DataFrame(df_scaled, index=original_indices, columns=df.columns)\n",
    "    return df_normalized"
   ]
  },
  {
   "cell_type": "code",
   "execution_count": null,
   "id": "d0354161",
   "metadata": {},
   "outputs": [],
   "source": [
    "df_base_scaled = normalize_with_indices(df_base)\n",
    "df_train_scaled  = normalize_with_indices(df_train)\n",
    "df_validation_scaled = normalize_with_indices(df_validation)"
   ]
  },
  {
   "cell_type": "code",
   "execution_count": null,
   "id": "046e4b1a",
   "metadata": {},
   "outputs": [],
   "source": [
    "dims = df_base_scaled.shape[1]\n",
    "n_cells = 10\n",
    "\n",
    "quantizer = faiss.IndexFlatL2(dims)\n",
    "idx_l2 = faiss.IndexIVFFlat(quantizer, dims, n_cells)"
   ]
  },
  {
   "cell_type": "code",
   "execution_count": null,
   "id": "0117654c",
   "metadata": {},
   "outputs": [],
   "source": [
    "idx_l2.train(np.ascontiguousarray(df_base_scaled).astype('float32'))\n",
    "\n",
    "idx_l2.add(np.ascontiguousarray(df_base_scaled).astype('float32'))"
   ]
  },
  {
   "cell_type": "code",
   "execution_count": null,
   "id": "4d8d9f8e",
   "metadata": {},
   "outputs": [],
   "source": [
    "base_index = {k: v for k, v in enumerate(df_base_scaled.index.to_list())}"
   ]
  },
  {
   "cell_type": "code",
   "execution_count": null,
   "id": "da1e25f7",
   "metadata": {},
   "outputs": [],
   "source": [
    "%%time\n",
    "k_neighbours = 100\n",
    "vecs, idx = idx_l2.search(np.ascontiguousarray(df_train_scaled.values).astype('float32'), k_neighbours)"
   ]
  },
  {
   "cell_type": "code",
   "execution_count": null,
   "id": "cf7cbfca",
   "metadata": {},
   "outputs": [],
   "source": [
    "acc = 0\n",
    "for target, el in zip(targets.values.tolist(), idx.tolist()):\n",
    "    acc += int(target in [base_index[r] for r in el])\n",
    "\n",
    "print(100 * acc / len(idx))"
   ]
  },
  {
   "cell_type": "code",
   "execution_count": null,
   "id": "a8ed4e79",
   "metadata": {},
   "outputs": [],
   "source": []
  },
  {
   "cell_type": "code",
   "execution_count": null,
   "id": "18349ed6",
   "metadata": {},
   "outputs": [],
   "source": []
  },
  {
   "cell_type": "code",
   "execution_count": null,
   "id": "37d40172",
   "metadata": {},
   "outputs": [],
   "source": [
    "print(train_data_normalized"
   ]
  },
  {
   "cell_type": "code",
   "execution_count": null,
   "id": "1f0ebd28",
   "metadata": {},
   "outputs": [],
   "source": [
    "# Создание Faiss индекса\n",
    "dims = base_data_normalized.shape[1]\n",
    "n_cells = 15  # Количество ячеек\n",
    "quantizer = faiss.IndexFlatL2(dims)\n",
    "idx_l2 = faiss.IndexIVFFlat(quantizer, dims, n_cells)\n",
    "idx_l2.train(np.ascontiguousarray(df_base.values[:50000, :]).astype('float32'))\n",
    "idx_l2.add(np.ascontiguousarray(df_base.values).astype('float32'))\n",
    "base_index = {k: v for k, v in enumerate(df_base.index.to_list())}"
   ]
  },
  {
   "cell_type": "code",
   "execution_count": null,
   "id": "21696ce5",
   "metadata": {},
   "outputs": [],
   "source": [
    "# targets = df_train[\"Target\"]\n",
    "# df_train.drop(\"Target\", axis=1, inplace=True)"
   ]
  },
  {
   "cell_type": "code",
   "execution_count": null,
   "id": "e8f516de",
   "metadata": {},
   "outputs": [],
   "source": [
    "# Получение 10 ближайших соседей на первом этапе\n",
    "k_first_stage = 10\n",
    "train_nearest_indices_first_stage, idx = idx_l2.search(\n",
    "    np.ascontiguousarray(df_train.values).astype('float32'), k_first_stage)"
   ]
  },
  {
   "cell_type": "code",
   "execution_count": null,
   "id": "001cd042",
   "metadata": {},
   "outputs": [],
   "source": [
    "acc = 0\n",
    "for target, el in zip(targets.values.tolist(), idx.tolist()):\n",
    "    acc += int(target in [base_index[r] for r in el])\n",
    "\n",
    "print(100 * acc / len(idx))"
   ]
  },
  {
   "cell_type": "code",
   "execution_count": null,
   "id": "42c20258",
   "metadata": {},
   "outputs": [],
   "source": [
    "# Создание датасета для второго этапа CatBoost\n",
    "train_data_catboost = []\n",
    "train_labels_catboost = []\n",
    "for idx, neighbors in zip(df_train.index, train_nearest_indices_first_stage):\n",
    "    train_data_catboost.extend(neighbors)\n",
    "    train_labels_catboost.extend([idx] * len(neighbors))\n",
    "\n",
    "train_data_catboost = np.column_stack((np.array(train_labels_catboost), np.array(train_data_catboost)))\n",
    "train_labels_catboost = np.array(train_labels_catboost)\n",
    "\n",
    "train_pool_catboost = Pool(data=train_data_catboost, label=train_labels_catboost)"
   ]
  },
  {
   "cell_type": "code",
   "execution_count": null,
   "id": "fc957358",
   "metadata": {},
   "outputs": [],
   "source": [
    "# Обучение модели CatBoost для второго этапа\n",
    "model_catboost = CatBoostClassifier(iterations=100, depth=6, learning_rate=0.1, loss_function='Logloss', verbose=10)\n",
    "model_catboost.fit(train_pool_catboost)"
   ]
  },
  {
   "cell_type": "code",
   "execution_count": null,
   "id": "1b9a7e37",
   "metadata": {},
   "outputs": [],
   "source": [
    "# Получение 5 ближайших соседей для валидационной выборки\n",
    "k_second_stage = 5\n",
    "validation_nearest_indices, _ = idx_l2.search(\n",
    "    np.ascontiguousarray(df_validation.values).astype('float32'), k_second_stage)"
   ]
  },
  {
   "cell_type": "code",
   "execution_count": null,
   "id": "359fdf6b",
   "metadata": {},
   "outputs": [],
   "source": [
    "# Создание датасета для второго этапа CatBoost\n",
    "validation_data_catboost = np.column_stack(\n",
    "    (np.repeat(np.arange(len(df_validation)), k_second_stage), validation_nearest_indices.flatten()))"
   ]
  },
  {
   "cell_type": "code",
   "execution_count": null,
   "id": "88c344e7",
   "metadata": {},
   "outputs": [],
   "source": [
    "# Получение предсказаний для валидационной выборки\n",
    "validation_predictions = model_catboost.predict_proba(validation_data_catboost)[:, 1]"
   ]
  },
  {
   "cell_type": "code",
   "execution_count": null,
   "id": "a76eaec4",
   "metadata": {},
   "outputs": [],
   "source": [
    "# Преобразование индексов в исходные идентификаторы\n",
    "validation_indices = df_validation.index\n",
    "validation_ids = [base_index[idx] for idx in validation_indices]"
   ]
  },
  {
   "cell_type": "code",
   "execution_count": null,
   "id": "8ea8466e",
   "metadata": {},
   "outputs": [],
   "source": [
    "# Создание DataFrame с предсказаниями\n",
    "validation_results = pd.DataFrame({'Id': validation_ids, 'Predicted': validation_predictions})\n",
    "validation_results = validation_results.set_index('Id')"
   ]
  },
  {
   "cell_type": "code",
   "execution_count": null,
   "id": "88af6d71",
   "metadata": {},
   "outputs": [],
   "source": [
    "# Сортировка ближайших соседей по убыванию предсказанных вероятностей\n",
    "validation_results['Top5Matches'] = validation_results['Predicted'].groupby('Id').apply(\n",
    "    lambda group: group.sort_values(ascending=False).index[:k_second_stage].tolist())"
   ]
  },
  {
   "cell_type": "code",
   "execution_count": null,
   "id": "6b180eed",
   "metadata": {},
   "outputs": [],
   "source": [
    "# Объединение предсказаний с правильными ответами\n",
    "validation_results['Expected'] = df_validation_answers['Expected']\n"
   ]
  },
  {
   "cell_type": "code",
   "execution_count": null,
   "id": "0cc22f58",
   "metadata": {},
   "outputs": [],
   "source": [
    "# Подсчет accuracy@5\n",
    "validation_results['Top5Accuracy'] = validation_results.apply(\n",
    "    lambda row: int(row['Expected'] in row['Top5Matches']), axis=1)\n",
    "\n",
    "accuracy_at_5 = validation_results['Top5Accuracy'].mean()\n",
    "print(f'Accuracy@5: {accuracy_at_5:.4f}')"
   ]
  },
  {
   "cell_type": "code",
   "execution_count": null,
   "id": "127d0a20",
   "metadata": {},
   "outputs": [],
   "source": []
  },
  {
   "cell_type": "code",
   "execution_count": null,
   "id": "afe67167",
   "metadata": {},
   "outputs": [],
   "source": []
  }
 ],
 "metadata": {
  "kernelspec": {
   "display_name": "Python 3 (ipykernel)",
   "language": "python",
   "name": "python3"
  },
  "language_info": {
   "codemirror_mode": {
    "name": "ipython",
    "version": 3
   },
   "file_extension": ".py",
   "mimetype": "text/x-python",
   "name": "python",
   "nbconvert_exporter": "python",
   "pygments_lexer": "ipython3",
   "version": "3.7.16"
  },
  "toc": {
   "base_numbering": 1,
   "nav_menu": {},
   "number_sections": true,
   "sideBar": true,
   "skip_h1_title": false,
   "title_cell": "Table of Contents",
   "title_sidebar": "Contents",
   "toc_cell": false,
   "toc_position": {},
   "toc_section_display": true,
   "toc_window_display": false
  }
 },
 "nbformat": 4,
 "nbformat_minor": 5
}
